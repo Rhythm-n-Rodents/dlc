{
 "cells": [
  {
   "cell_type": "code",
   "execution_count": 10,
   "metadata": {},
   "outputs": [
    {
     "name": "stdout",
     "output_type": "stream",
     "text": [
      "Current Working Directory: /data\n",
      "SRC_PATH: /data/src\n",
      "sys.path: ['/data/settings', '/data/src/lib', '/data/src', '/data/behavior/settings', '/data/behavior/src/lib', '/data/behavior/src', '/data/behavior/settings', '/data/behavior/src/lib', '/data/behavior/src', '/data/behavior/settings', '/data/behavior/src/lib', '/data/behavior/src', '/data/behavior/settings', '/data/behavior/src/lib', '/data/behavior/src', '/data/behavior/settings', '/data/behavior/src/lib', '/data/behavior/settings', '/data/behavior/src/lib', '/data/behavior/settings', '/data/behavior/src/lib', '/data/behavior/settings', '/data/behavior/src/lib', '/data/behavior/src', '/usr/lib/python310.zip', '/usr/lib/python3.10', '/usr/lib/python3.10/lib-dynload', '', '/usr/local/share/behavior/lib/python3.10/site-packages']\n"
     ]
    }
   ],
   "source": [
    "import argparse\n",
    "import os\n",
    "import sys, socket\n",
    "from timeit import default_timer as timer\n",
    "from pathlib import Path\n",
    "\n",
    "BASE_DIR = Path.cwd()\n",
    "SRC_PATH = Path(BASE_DIR).resolve().parent / \"src\"\n",
    "LIB_PATH = SRC_PATH / \"lib\"\n",
    "SETTINGS_PATH = Path(BASE_DIR).resolve().parent / \"settings\"\n",
    "\n",
    "sys.path.insert(0, str(SRC_PATH))\n",
    "sys.path.insert(0, str(LIB_PATH))\n",
    "sys.path.insert(0, str(SETTINGS_PATH))\n",
    "\n",
    "os.chdir(BASE_DIR.parent)\n",
    "\n",
    "print(\"Current Working Directory:\", os.getcwd())  # Should be the dev directory\n",
    "print(\"SRC_PATH:\", SRC_PATH)  # Should point to src\n",
    "print(\"sys.path:\", sys.path)  # Should include the src path\n",
    "\n",
    "from src.behavior_pipeline import Pipeline"
   ]
  },
  {
   "cell_type": "code",
   "execution_count": null,
   "metadata": {},
   "outputs": [],
   "source": []
  }
 ],
 "metadata": {
  "kernelspec": {
   "display_name": "behavior",
   "language": "python",
   "name": "python3"
  },
  "language_info": {
   "codemirror_mode": {
    "name": "ipython",
    "version": 3
   },
   "file_extension": ".py",
   "mimetype": "text/x-python",
   "name": "python",
   "nbconvert_exporter": "python",
   "pygments_lexer": "ipython3",
   "version": "3.10.12"
  }
 },
 "nbformat": 4,
 "nbformat_minor": 2
}
